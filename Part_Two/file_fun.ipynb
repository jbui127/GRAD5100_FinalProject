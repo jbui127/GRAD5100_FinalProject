{
 "cells": [
  {
   "cell_type": "code",
   "execution_count": 12,
   "id": "681cba57-4768-4e01-a9d9-e2e59064ac12",
   "metadata": {
    "tags": []
   },
   "outputs": [],
   "source": [
    "import os\n",
    "\n",
    "def extract_code(filename):\n",
    "    parts = filename.split('_')\n",
    "    return f\"{parts[1]}.{parts[2]}\"\n",
    "\n",
    "def process_file(filename):\n",
    "    with open(filename, 'r') as file:\n",
    "        lines = file.readlines()\n",
    "        for line in lines:\n",
    "            code = line.strip()\n",
    "            extracted_code = extract_code(code)\n",
    "            num_code = code.split('_')[0]\n",
    "            folder_path = 'expanded'\n",
    "            if not os.path.exists(folder_path):\n",
    "                os.makedirs(folder_path)\n",
    "            with open(os.path.join(folder_path, extracted_code), 'w') as new_file:\n",
    "                new_file.write(num_code)\n",
    "\n",
    "if __name__ == \"__main__\":\n",
    "    file_path = 'codes.txt'\n",
    "    process_file(file_path)"
   ]
  },
  {
   "cell_type": "code",
   "execution_count": 13,
   "id": "c27eb9c5-c539-48d5-9131-ea29e960e2cc",
   "metadata": {
    "tags": []
   },
   "outputs": [],
   "source": [
    "import os\n",
    "\n",
    "def extract_code(filename):\n",
    "    parts = filename.split('_')\n",
    "    return f\"{parts[1]}.{parts[-1]}\"  # Modified to get the correct extension\n",
    "\n",
    "def process_file(filename):\n",
    "    with open(filename, 'r') as file:\n",
    "        lines = file.readlines()\n",
    "        for line in lines:\n",
    "            code = line.strip()\n",
    "            extracted_code = extract_code(code)\n",
    "            num_code = code.split('_')[0]\n",
    "            folder_path = 'expanded'\n",
    "            if not os.path.exists(folder_path):\n",
    "                os.makedirs(folder_path)\n",
    "            with open(os.path.join(folder_path, extracted_code), 'w') as new_file:\n",
    "                new_file.write(num_code)\n",
    "\n",
    "if __name__ == \"__main__\":\n",
    "    file_path = 'codes.txt'\n",
    "    process_file(file_path)\n"
   ]
  }
 ],
 "metadata": {
  "kernelspec": {
   "display_name": "Python 3 (ipykernel)",
   "language": "python",
   "name": "python3"
  },
  "language_info": {
   "codemirror_mode": {
    "name": "ipython",
    "version": 3
   },
   "file_extension": ".py",
   "mimetype": "text/x-python",
   "name": "python",
   "nbconvert_exporter": "python",
   "pygments_lexer": "ipython3",
   "version": "3.11.4"
  }
 },
 "nbformat": 4,
 "nbformat_minor": 5
}
