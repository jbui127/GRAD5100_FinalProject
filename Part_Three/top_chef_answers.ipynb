{
 "cells": [
  {
   "cell_type": "code",
   "execution_count": null,
   "metadata": {},
   "outputs": [],
   "source": [
    "The topChef database\n",
    "TopChef is a reality TV show in which contestants, who are professional chefs, compete in a\n",
    "variety of cooking contests over the course of a season. Each episode, one or more chefs are\n",
    "kicked off the show, until, at the end the winner is crowned “Top Chef”.\n",
    "The topChef database contains information about (most of) the top Chef seasons.\n",
    "You can access the top chef database using the same credentials we used in class for the\n",
    "sakila database. The only difference is that the database name (dbname) is topChef instead\n",
    "of sakila.\n",
    "If you would prefer to work in R (and even avoid SQL), you can load the topChef data by\n",
    "install.packages(\"topChef\") and library(\"topChef\").\n",
    "There are 6 tables in the topChef database but we will focus our attention on two of them:\n",
    "chefdetails and judges. The chefdetails tells us information about the contestants, and\n",
    "the judges table tells us information about the judges.\n",
    "Of particular interest in the chefdetails table are the fields:\n",
    "• season which is the name of the season (often a city where the competition took place, but not always)\n",
    "• seasonNumber which is the number of the season\n",
    "• name which is the chef’s name 3\n",
    "• placement which tells where the chef finished in the competition\n",
    "• gender which tells the chef’s gender.\n",
    "\n",
    "In the judges table we are interested in:\n",
    "• season and seasonNumber which are the same as in the chefdetails table.\n",
    "• episode which gives the episode where the judge appeared; the show uses many guest\n",
    "judges varying episode by episode.\n",
    "• challengeType describes the type of challenge where the judge played a role.\n",
    "• guestJudge is the judge’s name\n",
    "• competedOnTC is ‘Yes’ if the judge was a previous top chef contestant."
   ]
  },
  {
   "cell_type": "code",
   "execution_count": 101,
   "metadata": {},
   "outputs": [],
   "source": [
    "#\n",
    "import sqlalchemy as sqla\n",
    "import pymysql\n",
    "import pandas as pd\n",
    "import os\n",
    "\n",
    "username = \"user\"  \n",
    "password = \"grad5100user\"  \n",
    "awsresource = \"database-1.cwvjklnp4wu3.us-east-1.rds.amazonaws.com\"  \n",
    "port = 3306"
   ]
  },
  {
   "cell_type": "code",
   "execution_count": 102,
   "metadata": {},
   "outputs": [],
   "source": [
    "dbname = \"topChef\"\n",
    "dburi = f\"mysql+pymysql://{username}:{password}@{awsresource}:{port}/{dbname}\"\n",
    "engine = sqla.create_engine(dburi)\n"
   ]
  },
  {
   "cell_type": "code",
   "execution_count": 103,
   "metadata": {},
   "outputs": [],
   "source": [
    "def run_sql(sql, engine):\n",
    "    \"send sql to database given by engine and return the result\"\n",
    "    with engine.connect() as conn:\n",
    "        result = conn.execute(sqla.text(sql))\n",
    "    return result.all()\n",
    "\n",
    "\n",
    "def df_select(sql, engine):\n",
    "    \"send sql to database given by engine and return the result as a pandas dataframe\"\n",
    "    with engine.connect() as conn:\n",
    "        result = pd.read_sql(sqla.text(sql), con=conn)\n",
    "    print(f\"Retrieved {result.shape[0]} records\")\n",
    "    return result\n"
   ]
  },
  {
   "cell_type": "code",
   "execution_count": 104,
   "metadata": {},
   "outputs": [
    {
     "name": "stdout",
     "output_type": "stream",
     "text": [
      "('challengedescriptions',)\n",
      "('challengewins',)\n",
      "('chefdetails',)\n",
      "('episodeinfo',)\n",
      "('judges',)\n",
      "('rewards',)\n"
     ]
    }
   ],
   "source": [
    "tables = run_sql(\"show tables;\", engine)\n",
    "for x in tables:\n",
    "    print(x)"
   ]
  },
  {
   "cell_type": "code",
   "execution_count": 105,
   "metadata": {},
   "outputs": [
    {
     "name": "stdout",
     "output_type": "stream",
     "text": [
      "Retrieved 322 records\n",
      "     num                       name                       chef  \\\n",
      "0      0              Richard Blais                 Richard B.   \n",
      "1      1              Mike Isabella                    Mike I.   \n",
      "2      2             Antonia Lofaso                 Antonia L.   \n",
      "3      3              Tiffany Derry                 Tiffany D.   \n",
      "4      4                 Carla Hall                   Carla H.   \n",
      "..   ...                        ...                        ...   \n",
      "317  386  May Phattanant Thongthong  May Phattanant Thongthong   \n",
      "318  387             Begona Rodrigo             Begona Rodrigo   \n",
      "319  388          Gabriel Rodriguez          Gabriel Rodriguez   \n",
      "320  389               Amar Santana                    Amar S.   \n",
      "321  390            Sylwia Stachyra            Sylwia Stachyra   \n",
      "\n",
      "                        hometown       city       state   age  \\\n",
      "0                           None       None        None  38.0   \n",
      "1                           None       None        None  35.0   \n",
      "2                           None       None        None  34.0   \n",
      "3                           None       None        None  27.0   \n",
      "4                           None       None        None  46.0   \n",
      "..                           ...        ...         ...   ...   \n",
      "317         Chiang Mai, Thailand    Bangkok    Thailand   NaN   \n",
      "318              Valencia, Spain   Valencia       Spain   NaN   \n",
      "319      Iztapalapa, Mexico City     Madrid       Spain   NaN   \n",
      "320  Dominican Republic / Queens  Santa Ana  California   NaN   \n",
      "321               Lublin, Poland     Lublin      Poland   NaN   \n",
      "\n",
      "                  season  seasonNumber series  placement personOfColor  \\\n",
      "0    All Stars: New York             8     US          1          None   \n",
      "1    All Stars: New York             8     US          2          None   \n",
      "2    All Stars: New York             8     US          3          None   \n",
      "3    All Stars: New York             8     US          4           POC   \n",
      "4    All Stars: New York             8     US          5           POC   \n",
      "..                   ...           ...    ...        ...           ...   \n",
      "317      World All Stars            20     US         14           POC   \n",
      "318      World All Stars            20     US         12          None   \n",
      "319      World All Stars            20     US          2           POC   \n",
      "320      World All Stars            20     US          6           POC   \n",
      "321      World All Stars            20     US         11          None   \n",
      "\n",
      "                          occupation  gender  \n",
      "0                              Owner    Male  \n",
      "1               Executive Chef/Owner    Male  \n",
      "2                     Executive Chef  Female  \n",
      "3                     Executive Chef  Female  \n",
      "4                         Chef/Owner  Female  \n",
      "..                               ...     ...  \n",
      "317        Executive Chef/Co-Partner  Female  \n",
      "318                            Owner  Female  \n",
      "319                   Executive Chef    Male  \n",
      "320                     Chef/Partner    Male  \n",
      "321  Consultant/Cooking School Owner  Female  \n",
      "\n",
      "[322 rows x 14 columns]\n",
      "Retrieved 633 records\n",
      "     num               season  seasonNumber series  episode challengeType  \\\n",
      "0      0  All Stars: New York             8     US        1     Quickfire   \n",
      "1      1  All Stars: New York             8     US        1   Elimination   \n",
      "2      2  All Stars: New York             8     US        2     Quickfire   \n",
      "3      3  All Stars: New York             8     US        2   Elimination   \n",
      "4      4  All Stars: New York             8     US        3     Quickfire   \n",
      "..   ...                  ...           ...    ...      ...           ...   \n",
      "628  750      World All Stars            20     US       12     Quickfire   \n",
      "629  751      World All Stars            20     US       12   Elimination   \n",
      "630  752      World All Stars            20     US       13     Quickfire   \n",
      "631  753      World All Stars            20     US       13   Elimination   \n",
      "632  754      World All Stars            20     US       14   Elimination   \n",
      "\n",
      "    outcomeType        guestJudge competedOnTC                      otherShows  \n",
      "0          Team     Tom Colicchio         None                  Top Chef Judge  \n",
      "1    Individual  Anthony Bourdain         None  Parts Unknown; No Reservations  \n",
      "2    Individual         Joe Jonas         None                            None  \n",
      "3          Team         Katie Lee         None           Beat Bobby Flay Judge  \n",
      "4          Team       David Chang         None                            None  \n",
      "..          ...               ...          ...                             ...  \n",
      "628  Individual        Sam Bompas         None                            None  \n",
      "629  Individual       Jeremy Chan         None                            None  \n",
      "630  Individual     Greg Marchand         None                            None  \n",
      "631  Individual     Greg Marchand         None                            None  \n",
      "632  Individual    Helene Darroze         None                            None  \n",
      "\n",
      "[633 rows x 10 columns]\n"
     ]
    }
   ],
   "source": [
    "#Problem One\n",
    "\n",
    "chefdetails_query = \"\"\"SELECT * FROM chefdetails WHERE season NOT LIKE '%Masters%' AND season != 'Canada 6' \"\"\"\n",
    "filtered_chefdetails = df_select(chefdetails_query, engine)\n",
    "print(filtered_chefdetails)\n",
    "\n",
    "judges_query = \"\"\"SELECT * FROM judges WHERE season NOT LIKE '%Masters%' AND season != 'Canada 6' \"\"\"\n",
    "filtered_judges = df_select(judges_query, engine)\n",
    "print(filtered_judges)\n"
   ]
  },
  {
   "cell_type": "code",
   "execution_count": 98,
   "metadata": {},
   "outputs": [
    {
     "name": "stdout",
     "output_type": "stream",
     "text": [
      "Retrieved 322 records\n",
      "                  season  seasonNumber                       name  placement  \\\n",
      "0    All Stars: New York             8              Richard Blais          1   \n",
      "1    All Stars: New York             8              Mike Isabella          2   \n",
      "2    All Stars: New York             8             Antonia Lofaso          3   \n",
      "3    All Stars: New York             8              Tiffany Derry          4   \n",
      "4    All Stars: New York             8                 Carla Hall          5   \n",
      "..                   ...           ...                        ...        ...   \n",
      "317      World All Stars            20  May Phattanant Thongthong         14   \n",
      "318      World All Stars            20             Begona Rodrigo         12   \n",
      "319      World All Stars            20          Gabriel Rodriguez          2   \n",
      "320      World All Stars            20               Amar Santana          6   \n",
      "321      World All Stars            20            Sylwia Stachyra         11   \n",
      "\n",
      "     gender  \n",
      "0      Male  \n",
      "1      Male  \n",
      "2    Female  \n",
      "3    Female  \n",
      "4    Female  \n",
      "..      ...  \n",
      "317  Female  \n",
      "318  Female  \n",
      "319    Male  \n",
      "320    Male  \n",
      "321  Female  \n",
      "\n",
      "[322 rows x 5 columns]\n"
     ]
    }
   ],
   "source": [
    "#Problem Two \n",
    "\n",
    "chefdetails_query = \"\"\"SELECT season, seasonNumber, name, placement, gender FROM chefdetails WHERE season NOT LIKE '%Masters%' AND season != 'Canada 6' \"\"\"\n",
    "filtered_chefdetails = df_select(chefdetails_query, engine)\n",
    "print(filtered_chefdetails)"
   ]
  },
  {
   "cell_type": "code",
   "execution_count": 99,
   "metadata": {},
   "outputs": [
    {
     "name": "stdout",
     "output_type": "stream",
     "text": [
      "Retrieved 633 records\n",
      "                  season  seasonNumber  episode challengeType  \\\n",
      "0    All Stars: New York             8        1     Quickfire   \n",
      "1    All Stars: New York             8        1   Elimination   \n",
      "2    All Stars: New York             8        2     Quickfire   \n",
      "3    All Stars: New York             8        2   Elimination   \n",
      "4    All Stars: New York             8        3     Quickfire   \n",
      "..                   ...           ...      ...           ...   \n",
      "628      World All Stars            20       12     Quickfire   \n",
      "629      World All Stars            20       12   Elimination   \n",
      "630      World All Stars            20       13     Quickfire   \n",
      "631      World All Stars            20       13   Elimination   \n",
      "632      World All Stars            20       14   Elimination   \n",
      "\n",
      "           guestJudge competedOnTC  \n",
      "0       Tom Colicchio         None  \n",
      "1    Anthony Bourdain         None  \n",
      "2           Joe Jonas         None  \n",
      "3           Katie Lee         None  \n",
      "4         David Chang         None  \n",
      "..                ...          ...  \n",
      "628        Sam Bompas         None  \n",
      "629       Jeremy Chan         None  \n",
      "630     Greg Marchand         None  \n",
      "631     Greg Marchand         None  \n",
      "632    Helene Darroze         None  \n",
      "\n",
      "[633 rows x 6 columns]\n"
     ]
    }
   ],
   "source": [
    "#Problem 2\n",
    "\n",
    "judges_query = \"\"\"SELECT season, seasonNumber, episode, challengeType, guestJudge, competedOnTC FROM judges WHERE season NOT LIKE '%Masters%' AND season != 'Canada 6' \"\"\"\n",
    "filtered_judges = df_select(judges_query, engine)\n",
    "print(filtered_judges)"
   ]
  },
  {
   "cell_type": "code",
   "execution_count": 100,
   "metadata": {},
   "outputs": [
    {
     "name": "stdout",
     "output_type": "stream",
     "text": [
      "Retrieved 20 records\n",
      "                 season  seasonNumber\n",
      "0         San Francisco             1\n",
      "1           Los Angeles             2\n",
      "2                 Miami             3\n",
      "3               Chicago             4\n",
      "4              New York             5\n",
      "5             Las Vegas             6\n",
      "6                  D.C.             7\n",
      "7   All Stars: New York             8\n",
      "8                 Texas             9\n",
      "9               Seattle            10\n",
      "10          New Orleans            11\n",
      "11               Boston            12\n",
      "12           California            13\n",
      "13           Charleston            14\n",
      "14             Colorado            15\n",
      "15             Kentucky            16\n",
      "16       All-Stars L.A.            17\n",
      "17             Portland            18\n",
      "18              Houston            19\n",
      "19      World All Stars            20\n"
     ]
    }
   ],
   "source": [
    "distinct_season = \"\"\"SELECT DISTINCT season, seasonNumber FROM chefdetails WHERE season NOT LIKE '%Masters%' AND season != 'Canada 6' ORDER BY seasonNumber\"\"\"\n",
    "season_map = df_select(distinct_season, engine)\n",
    "print(season_map)"
   ]
  },
  {
   "cell_type": "code",
   "execution_count": 73,
   "metadata": {},
   "outputs": [
    {
     "name": "stdout",
     "output_type": "stream",
     "text": [
      "gender\n",
      "Male      170\n",
      "Female    152\n",
      "Name: count, dtype: int64\n"
     ]
    }
   ],
   "source": [
    "#a. Among all chef contestants, how many are male and how many are female? There are 170 males and 152 females\n",
    "\n",
    "gender_count = filtered_chefdetails['gender'].value_counts()\n",
    "print(gender_count)"
   ]
  },
  {
   "cell_type": "code",
   "execution_count": 74,
   "metadata": {},
   "outputs": [
    {
     "name": "stdout",
     "output_type": "stream",
     "text": [
      "gender\n",
      "Male      14\n",
      "Female     6\n",
      "Name: count, dtype: int64\n"
     ]
    }
   ],
   "source": [
    "#b. Among all winners (placement==1) how many are male and how many are female? 14 males and 6 females.\n",
    "\n",
    "winners_df = filtered_chefdetails[filtered_chefdetails['placement'] == 1]\n",
    "winners_gender_count = winners_df['gender'].value_counts()\n",
    "print(winners_gender_count)\n"
   ]
  },
  {
   "cell_type": "code",
   "execution_count": 75,
   "metadata": {},
   "outputs": [
    {
     "name": "stdout",
     "output_type": "stream",
     "text": [
      "gender\n",
      "Male      36\n",
      "Female    25\n",
      "Name: count, dtype: int64\n"
     ]
    }
   ],
   "source": [
    "#c. Among all sets of top 3 finalists (placement=1,2,3) how many are male and how many are female? 36 males and 25 females.\n",
    "\n",
    "top3_finalists_df = filtered_chefdetails[filtered_chefdetails['placement'].isin([1, 2, 3])]\n",
    "top3_finalists_gender_count = top3_finalists_df['gender'].value_counts()\n",
    "print(top3_finalists_gender_count)\n"
   ]
  },
  {
   "cell_type": "code",
   "execution_count": 76,
   "metadata": {},
   "outputs": [
    {
     "name": "stdout",
     "output_type": "stream",
     "text": [
      "Amount of Female placed in Top 3: 25\n",
      "Amount of Female placed in first: 6\n",
      "Percentage of female (first place) from top 3: 24.0\n"
     ]
    }
   ],
   "source": [
    "#d. Compare the number of times a female was placed in the top 3 with the number of times a female won. Does this number seem unusual? That is, are women who place in the top 3 less likely than expected to ultimately win the competition? Why or why not?\n",
    "\n",
    "female_top3_count = len(filtered_chefdetails[(filtered_chefdetails['gender'] == 'Female') & (filtered_chefdetails['placement'].isin([1, 2, 3]))])\n",
    "female_winner_count = len(filtered_chefdetails[(filtered_chefdetails['gender'] == 'Female') & (filtered_chefdetails['placement'] == 1)])\n",
    "\n",
    "print('Amount of Female placed in Top 3:', female_top3_count)\n",
    "print('Amount of Female placed in first:', female_winner_count)\n",
    "print('Percentage of female (first place) from top 3:', (female_winner_count/female_top3_count)*100)\n",
    "\n",
    "#The number does seem unusual because it's not a high percentage that women got placed in first place compared. This shows that top 3 does not guarantee first place."
   ]
  },
  {
   "cell_type": "code",
   "execution_count": 88,
   "metadata": {
    "tags": []
   },
   "outputs": [
    {
     "name": "stdout",
     "output_type": "stream",
     "text": [
      "Retrieved 20 records\n",
      "                    name               season served_as_guest_judge\n",
      "0          Richard Blais  All Stars: New York                   Yes\n",
      "1           Melissa King       All-Stars L.A.                   Yes\n",
      "2                Mei Lin               Boston                    No\n",
      "3            Jeremy Ford           California                    No\n",
      "4      Brooke Williamson           Charleston                   Yes\n",
      "5        Stephanie Izard              Chicago                   Yes\n",
      "6           Kevin Sbraga                 D.C.                    No\n",
      "7           Joseph Flamm             Colorado                    No\n",
      "8             Kah-wai Lo              Houston                    No\n",
      "9   Kelsey Barnard Clark             Kentucky                   Yes\n",
      "10     Michael Voltaggio            Las Vegas                   Yes\n",
      "11             Ilan Hall          Los Angeles                   Yes\n",
      "12            Hung Huynh                Miami                   Yes\n",
      "13         Nicholas Elmi          New Orleans                    No\n",
      "14       Hosea Rosenberg             New York                   Yes\n",
      "15           Gabe Erales             Portland                    No\n",
      "16       Harold Dieterle        San Francisco                   Yes\n",
      "17          Kristen Kish              Seattle                   Yes\n",
      "18              Paul Qui                Texas                    No\n",
      "19            Kah-wai Lo      World All Stars                    No\n"
     ]
    }
   ],
   "source": [
    "#Make a table with one row for each first place winner containing the winner’s name, the season they won, and a column containing ‘Yes’ or ‘No’ depending on whether they served as a guest judge or not.\n",
    "first_place_df = \"\"\"\n",
    "SELECT\n",
    "  cd.name,\n",
    "  cd.season,\n",
    "  IF((SELECT 1 FROM judges WHERE guestJudge = cd.name OR competedOnTC = cd.name LIMIT 1), 'Yes', 'No') AS served_as_guest_judge\n",
    "FROM\n",
    "  chefdetails cd\n",
    "WHERE\n",
    "  cd.placement = 1\n",
    "  AND cd.season NOT LIKE '%Masters%'\n",
    "  AND cd.season != 'Canada 6';\n",
    "\"\"\"\n",
    "table = df_select(first_place_df, engine)\n",
    "print(table)\n"
   ]
  },
  {
   "cell_type": "code",
   "execution_count": 92,
   "metadata": {
    "tags": []
   },
   "outputs": [
    {
     "name": "stdout",
     "output_type": "stream",
     "text": [
      "Retrieved 32 records\n",
      "       non_winner_name served_as_guest_judge\n",
      "0        Mike Isabella                   Yes\n",
      "1       Antonia Lofaso                   Yes\n",
      "2        Tiffany Derry                   Yes\n",
      "3           Dale Talde                   Yes\n",
      "4     Spike Mendelsohn                   Yes\n",
      "5     Stephen Asprinio                   Yes\n",
      "6      Bryan Voltaggio                   Yes\n",
      "7      Gregory Gourdet                   Yes\n",
      "8      Karen Akunowicz                   Yes\n",
      "9        Lee Anne Wong                   Yes\n",
      "10         Nini Nguyen                   Yes\n",
      "11        Melissa King                   Yes\n",
      "12        Amar Santana                   Yes\n",
      "13      Kwame Onwuachi                   Yes\n",
      "14      Sheldon Simeon                   Yes\n",
      "15          Sam Talbot                   Yes\n",
      "16       Richard Blais                   Yes\n",
      "17   Adrienne Cheatham                   Yes\n",
      "18        Carrie Baird                   Yes\n",
      "19     Michael Midgley                   Yes\n",
      "20        Betty Fraser                   Yes\n",
      "21  Josie Smith-Malave                   Yes\n",
      "22        Nina Compton                   Yes\n",
      "23       Carlos Gaytan                   Yes\n",
      "24      Stefan Richter                   Yes\n",
      "25        Dawn Burrell                   Yes\n",
      "26      Shota Nakajima                   Yes\n",
      "27      Miguel Morales                   Yes\n",
      "28   Brooke Williamson                   Yes\n",
      "29          Edward Lee                   Yes\n",
      "30    Nyesha Arrington                   Yes\n",
      "31        Nicole Gomes                   Yes\n"
     ]
    }
   ],
   "source": [
    "#Find all contestants who were not first place winners but did serve as a guest judge at some point. Make sure to only list each name once.\n",
    "non_winner = \"\"\"SELECT DISTINCT\n",
    "  cd.name AS non_winner_name,\n",
    "  'Yes' AS served_as_guest_judge\n",
    "FROM\n",
    "  chefdetails cd\n",
    "WHERE\n",
    "  cd.placement != 1\n",
    "  AND cd.season NOT LIKE '%Masters%'\n",
    "  AND cd.season != 'Canada 6'\n",
    "  AND EXISTS (\n",
    "    SELECT 1 FROM judges\n",
    "    WHERE guestJudge = cd.name OR competedOnTC = cd.name\n",
    "  );\n",
    "\"\"\"\n",
    "\n",
    "n_winner = df_select(non_winner, engine)\n",
    "print(n_winner)"
   ]
  },
  {
   "cell_type": "code",
   "execution_count": null,
   "metadata": {},
   "outputs": [],
   "source": []
  }
 ],
 "metadata": {
  "kernelspec": {
   "display_name": "Python 3 (ipykernel)",
   "language": "python",
   "name": "python3"
  },
  "language_info": {
   "codemirror_mode": {
    "name": "ipython",
    "version": 3
   },
   "file_extension": ".py",
   "mimetype": "text/x-python",
   "name": "python",
   "nbconvert_exporter": "python",
   "pygments_lexer": "ipython3",
   "version": "3.11.4"
  }
 },
 "nbformat": 4,
 "nbformat_minor": 4
}
